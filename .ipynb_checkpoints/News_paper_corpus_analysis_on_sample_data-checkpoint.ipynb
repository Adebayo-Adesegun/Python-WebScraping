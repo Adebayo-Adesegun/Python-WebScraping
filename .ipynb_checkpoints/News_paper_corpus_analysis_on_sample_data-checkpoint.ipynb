{
 "cells": [
  {
   "cell_type": "code",
   "execution_count": 31,
   "metadata": {},
   "outputs": [],
   "source": [
    "import nltk\n",
    "import string\n",
    "import re\n",
    "import pandas as pd\n",
    "import numpy as np\n",
    "import string\n",
    "from nltk.corpus import stopwords\n",
    "wn = nltk.WordNetLemmatizer()\n",
    "\n",
    "list_of_punctuations = string.punctuation\n",
    "list_of_english_stopwords = stopwords.words('english')\n",
    "pd.set_option('display.max_colwidth', 100)\n",
    "# There are 179 English Stopwords in NLTK"
   ]
  },
  {
   "cell_type": "code",
   "execution_count": 74,
   "metadata": {},
   "outputs": [
    {
     "ename": "NameError",
     "evalue": "name 'make_regex' is not defined",
     "output_type": "error",
     "traceback": [
      "\u001b[1;31m---------------------------------------------------------------------------\u001b[0m",
      "\u001b[1;31mNameError\u001b[0m                                 Traceback (most recent call last)",
      "\u001b[1;32m<ipython-input-74-2661fd75d10d>\u001b[0m in \u001b[0;36m<module>\u001b[1;34m\u001b[0m\n\u001b[0;32m      4\u001b[0m \u001b[0mdate_regex\u001b[0m \u001b[1;33m=\u001b[0m \u001b[0mre\u001b[0m\u001b[1;33m.\u001b[0m\u001b[0mcompile\u001b[0m\u001b[1;33m(\u001b[0m\u001b[1;34mr\"[\\d]{2,4}[ -/:]*[\\d]{2,4}([ -/:]*[\\d]{2,4})?\"\u001b[0m\u001b[1;33m)\u001b[0m \u001b[1;31m# a way to match date\u001b[0m\u001b[1;33m\u001b[0m\u001b[1;33m\u001b[0m\u001b[0m\n\u001b[0;32m      5\u001b[0m \u001b[0mkeep_word_regex\u001b[0m \u001b[1;33m=\u001b[0m \u001b[0mre\u001b[0m\u001b[1;33m.\u001b[0m\u001b[0mcompile\u001b[0m\u001b[1;33m(\u001b[0m\u001b[1;34mr\"[^A-Za-z ]+\"\u001b[0m\u001b[1;33m)\u001b[0m\u001b[1;33m\u001b[0m\u001b[1;33m\u001b[0m\u001b[0m\n\u001b[1;32m----> 6\u001b[1;33m \u001b[0mstop_regex\u001b[0m \u001b[1;33m=\u001b[0m \u001b[0mmake_regex\u001b[0m\u001b[1;33m(\u001b[0m\u001b[0mstop_words\u001b[0m\u001b[1;33m)\u001b[0m\u001b[1;33m\u001b[0m\u001b[1;33m\u001b[0m\u001b[0m\n\u001b[0m\u001b[0;32m      7\u001b[0m \u001b[1;33m\u001b[0m\u001b[0m\n\u001b[0;32m      8\u001b[0m \u001b[1;32mdef\u001b[0m \u001b[0mclean_special_patterns\u001b[0m\u001b[1;33m(\u001b[0m\u001b[0mtext\u001b[0m\u001b[1;33m)\u001b[0m\u001b[1;33m:\u001b[0m\u001b[1;33m\u001b[0m\u001b[1;33m\u001b[0m\u001b[0m\n",
      "\u001b[1;31mNameError\u001b[0m: name 'make_regex' is not defined"
     ]
    }
   ],
   "source": [
    "## regex\n",
    "email_regex = re.compile(r\"[\\w.-]+@[\\w.-]+\")\n",
    "url_regex = re.compile(r\"(http|www)[^\\s]+\")\n",
    "date_regex = re.compile(r\"[\\d]{2,4}[ -/:]*[\\d]{2,4}([ -/:]*[\\d]{2,4})?\") # a way to match date\n",
    "#keep_word_regex = re.compile(r\"[^A-Za-z ]+\")\n",
    "#stop_regex = make_regex(stop_words)\n",
    "\n",
    "def clean_special_patterns(text):\n",
    "    \"\"\"Remove special patterns - email, url, date etc.\"\"\"\n",
    "    ## remove\n",
    "    text = url_regex.sub(\"\", text)\n",
    "    text = email_regex.sub(\"\", text)\n",
    "    text = date_regex.sub(\"\", text)\n",
    "    return text\n",
    "\n",
    "def remove_punctuation(text):\n",
    "    text_without_punctuation = \"\".join([char for char in text if char not in list_of_punctuations])\n",
    "    return text_without_punctuation\n",
    "\n",
    "def remove_unwanted_text(text):\n",
    "    if text == \"All rights reserved. This material, and other digital content on this website, may not be reproduced, published, broadcast, rewritten or redistributed in whole or in part without prior express written permission from PUNCH. Contact: [email\\xa0protected]  %d\":\n",
    "        return \"\"\n",
    "    else:\n",
    "        return text"
   ]
  },
  {
   "cell_type": "code",
   "execution_count": 16,
   "metadata": {
    "scrolled": true
   },
   "outputs": [
    {
     "data": {
      "text/html": [
       "<div>\n",
       "<style scoped>\n",
       "    .dataframe tbody tr th:only-of-type {\n",
       "        vertical-align: middle;\n",
       "    }\n",
       "\n",
       "    .dataframe tbody tr th {\n",
       "        vertical-align: top;\n",
       "    }\n",
       "\n",
       "    .dataframe thead th {\n",
       "        text-align: right;\n",
       "    }\n",
       "</style>\n",
       "<table border=\"1\" class=\"dataframe\">\n",
       "  <thead>\n",
       "    <tr style=\"text-align: right;\">\n",
       "      <th></th>\n",
       "      <th>text</th>\n",
       "      <th>label</th>\n",
       "    </tr>\n",
       "  </thead>\n",
       "  <tbody>\n",
       "    <tr>\n",
       "      <th>0</th>\n",
       "      <td>Manchester United have offered star goalkeeper David De Gea a new £375,000 per week contract to ...</td>\n",
       "      <td>sport</td>\n",
       "    </tr>\n",
       "    <tr>\n",
       "      <th>1</th>\n",
       "      <td>After closing the year 2020 on a very high note, investment experts have said that the bulls do...</td>\n",
       "      <td>business</td>\n",
       "    </tr>\n",
       "    <tr>\n",
       "      <th>2</th>\n",
       "      <td>Cote Destination Inspection Limited has emerged as the best Service Provider in the post port re...</td>\n",
       "      <td>business</td>\n",
       "    </tr>\n",
       "    <tr>\n",
       "      <th>3</th>\n",
       "      <td>Chief Muoghalu said he was prepared for the race, if his party would give him the ticket,  vowin...</td>\n",
       "      <td>politics</td>\n",
       "    </tr>\n",
       "    <tr>\n",
       "      <th>4</th>\n",
       "      <td>Maureen Ihua-Maduenyi The Commissioner, Accident Investigation Bureau, Akin Olateru, says the ag...</td>\n",
       "      <td>business</td>\n",
       "    </tr>\n",
       "  </tbody>\n",
       "</table>\n",
       "</div>"
      ],
      "text/plain": [
       "                                                                                                  text  \\\n",
       "0  Manchester United have offered star goalkeeper David De Gea a new £375,000 per week contract to ...   \n",
       "1   After closing the year 2020 on a very high note, investment experts have said that the bulls do...   \n",
       "2  Cote Destination Inspection Limited has emerged as the best Service Provider in the post port re...   \n",
       "3  Chief Muoghalu said he was prepared for the race, if his party would give him the ticket,  vowin...   \n",
       "4  Maureen Ihua-Maduenyi The Commissioner, Accident Investigation Bureau, Akin Olateru, says the ag...   \n",
       "\n",
       "      label  \n",
       "0     sport  \n",
       "1  business  \n",
       "2  business  \n",
       "3  politics  \n",
       "4  business  "
      ]
     },
     "execution_count": 16,
     "metadata": {},
     "output_type": "execute_result"
    }
   ],
   "source": [
    "# read in raw text\n",
    "\n",
    "business_data = pd.read_csv('Random_Sample_Data_Business_Single.txt', sep=\"\\t\",encoding='cp1252', names=['text'])\n",
    "sports_data = pd.read_csv('Random_Sample_Data_Sport_Single.txt', sep=\"\\t\",encoding='cp1252', names=['text'])\n",
    "politics_data = pd.read_csv('Random_Sample_Data_Politics_Single.txt', sep=\"\\t\",encoding='cp1252', names=['text'])\n",
    "\n",
    "## Remove Punctuations from text\n",
    "\n",
    "    \n",
    "business_data['text'] = business_data['text'].apply(lambda x: remove_unwanted_text(x))\n",
    "business_data['text'].replace('', np.nan, inplace=True)\n",
    "business_data.dropna(subset=['text'], inplace=True)\n",
    "#business_data['punct'] = business_data['text'].apply(lambda x: remove_punctuation(x))\n",
    "business_data['label'] = business_data['text'].apply(lambda x: \"business\")\n",
    "\n",
    "    \n",
    "sports_data['text'] = sports_data['text'].apply(lambda x: remove_unwanted_text(x))\n",
    "sports_data['text'].replace('', np.nan, inplace=True)\n",
    "sports_data.dropna(subset=['text'], inplace=True)\n",
    "#sports_data['punct'] = sports_data['text'].apply(lambda x: remove_punctuation(x))\n",
    "sports_data['label'] = sports_data['text'].apply(lambda x: \"sport\")\n",
    "\n",
    "    \n",
    "politics_data['text'] = politics_data['text'].apply(lambda x: remove_unwanted_text(x))\n",
    "politics_data['text'].replace('', np.nan, inplace=True)\n",
    "politics_data.dropna(subset=['text'], inplace=True)\n",
    "#politics_data['punct'] = politics_data['text'].apply(lambda x: remove_punctuation(x))\n",
    "politics_data['label'] = politics_data['text'].apply(lambda x: \"politics\")\n",
    "\n",
    "\n",
    "data = pd.concat([business_data, sports_data, politics_data])\n",
    "\n",
    "data = data.sample(frac=1).reset_index(drop=True)\n",
    "data.head()\n",
    "\n",
    "#Number of rows labeled business \n",
    "#Number of rows for the combined data 8173"
   ]
  },
  {
   "cell_type": "code",
   "execution_count": 17,
   "metadata": {},
   "outputs": [
    {
     "data": {
      "text/html": [
       "<div>\n",
       "<style scoped>\n",
       "    .dataframe tbody tr th:only-of-type {\n",
       "        vertical-align: middle;\n",
       "    }\n",
       "\n",
       "    .dataframe tbody tr th {\n",
       "        vertical-align: top;\n",
       "    }\n",
       "\n",
       "    .dataframe thead th {\n",
       "        text-align: right;\n",
       "    }\n",
       "</style>\n",
       "<table border=\"1\" class=\"dataframe\">\n",
       "  <thead>\n",
       "    <tr style=\"text-align: right;\">\n",
       "      <th></th>\n",
       "      <th>text</th>\n",
       "      <th>label</th>\n",
       "      <th>txt_len</th>\n",
       "      <th>punct%</th>\n",
       "    </tr>\n",
       "  </thead>\n",
       "  <tbody>\n",
       "    <tr>\n",
       "      <th>0</th>\n",
       "      <td>Manchester United have offered star goalkeeper David De Gea a new £375,000 per week contract to ...</td>\n",
       "      <td>sport</td>\n",
       "      <td>912</td>\n",
       "      <td>2.1</td>\n",
       "    </tr>\n",
       "    <tr>\n",
       "      <th>1</th>\n",
       "      <td>After closing the year 2020 on a very high note, investment experts have said that the bulls do...</td>\n",
       "      <td>business</td>\n",
       "      <td>2050</td>\n",
       "      <td>5.2</td>\n",
       "    </tr>\n",
       "    <tr>\n",
       "      <th>2</th>\n",
       "      <td>Cote Destination Inspection Limited has emerged as the best Service Provider in the post port re...</td>\n",
       "      <td>business</td>\n",
       "      <td>113</td>\n",
       "      <td>0.9</td>\n",
       "    </tr>\n",
       "    <tr>\n",
       "      <th>3</th>\n",
       "      <td>Chief Muoghalu said he was prepared for the race, if his party would give him the ticket,  vowin...</td>\n",
       "      <td>politics</td>\n",
       "      <td>154</td>\n",
       "      <td>3.2</td>\n",
       "    </tr>\n",
       "    <tr>\n",
       "      <th>4</th>\n",
       "      <td>Maureen Ihua-Maduenyi The Commissioner, Accident Investigation Bureau, Akin Olateru, says the ag...</td>\n",
       "      <td>business</td>\n",
       "      <td>1962</td>\n",
       "      <td>2.2</td>\n",
       "    </tr>\n",
       "  </tbody>\n",
       "</table>\n",
       "</div>"
      ],
      "text/plain": [
       "                                                                                                  text  \\\n",
       "0  Manchester United have offered star goalkeeper David De Gea a new £375,000 per week contract to ...   \n",
       "1   After closing the year 2020 on a very high note, investment experts have said that the bulls do...   \n",
       "2  Cote Destination Inspection Limited has emerged as the best Service Provider in the post port re...   \n",
       "3  Chief Muoghalu said he was prepared for the race, if his party would give him the ticket,  vowin...   \n",
       "4  Maureen Ihua-Maduenyi The Commissioner, Accident Investigation Bureau, Akin Olateru, says the ag...   \n",
       "\n",
       "      label  txt_len  punct%  \n",
       "0     sport      912     2.1  \n",
       "1  business     2050     5.2  \n",
       "2  business      113     0.9  \n",
       "3  politics      154     3.2  \n",
       "4  business     1962     2.2  "
      ]
     },
     "execution_count": 17,
     "metadata": {},
     "output_type": "execute_result"
    }
   ],
   "source": [
    "# Feature Engineering : Feature Creation \n",
    "data['txt_len'] = data['text'].apply(lambda x: len(x) - x.count(\" \"))\n",
    "\n",
    "# Feature for the percentage of Punctuation in an article \n",
    "def count_punct(text):\n",
    "    count = sum([1 for char in text if char in string.punctuation])\n",
    "    return round(count/(len(text) - text.count(\" \")),3)*100\n",
    "\n",
    "data['punct%'] = data['text'].apply(lambda x: count_punct(x))\n",
    "\n",
    "data.head()"
   ]
  },
  {
   "cell_type": "code",
   "execution_count": 18,
   "metadata": {},
   "outputs": [
    {
     "data": {
      "image/png": "[encoded data removed]",
      "text/plain": [
       "<Figure size 432x288 with 1 Axes>"
      ]
     },
     "metadata": {
      "needs_background": "light"
     },
     "output_type": "display_data"
    }
   ],
   "source": [
    "# Feature Evaluation | Evaluate Created Features \n",
    "from matplotlib import pyplot \n",
    "import numpy as np\n",
    "%matplotlib inline \n",
    "\n",
    "bins = np.linspace(0,15,45)\n",
    "\n",
    "pyplot.hist(data[data['label'] == 'business']['punct%'],bins, alpha=0.5, density=True, label='business')\n",
    "pyplot.hist(data[data['label'] == 'sport']['punct%'],bins, alpha=0.5, density=True, label='sport')\n",
    "pyplot.hist(data[data['label'] == 'politics']['punct%'],bins, alpha=0.5, density=True, label='politics')\n",
    "pyplot.legend(loc='upper right')\n",
    "pyplot.show()\n",
    "\n"
   ]
  },
  {
   "cell_type": "code",
   "execution_count": 19,
   "metadata": {
    "scrolled": true
   },
   "outputs": [
    {
     "data": {
      "image/png": "[encoded data removed]",
      "text/plain": [
       "<Figure size 432x288 with 1 Axes>"
      ]
     },
     "metadata": {
      "needs_background": "light"
     },
     "output_type": "display_data"
    }
   ],
   "source": [
    "bins = np.linspace(0,4000,45)\n",
    "\n",
    "pyplot.hist(data[data['label'] == 'business']['txt_len'],bins, alpha=0.5, density=True, label='business')\n",
    "pyplot.hist(data[data['label'] == 'sport']['txt_len'],bins, alpha=0.5, density=True, label='sport')\n",
    "pyplot.hist(data[data['label'] == 'politics']['txt_len'],bins, alpha=0.5, density=True, label='politics')\n",
    "pyplot.legend(loc='upper right')\n",
    "pyplot.show()"
   ]
  },
  {
   "cell_type": "code",
   "execution_count": 20,
   "metadata": {},
   "outputs": [
    {
     "data": {
      "image/png": "[encoded data removed]",
      "text/plain": [
       "<Figure size 432x288 with 1 Axes>"
      ]
     },
     "metadata": {
      "needs_background": "light"
     },
     "output_type": "display_data"
    }
   ],
   "source": [
    "# Identify Features that qualify for transformation \n",
    "bins = np.linspace(0,15,45)\n",
    "\n",
    "pyplot.hist(data['punct%'], bins)\n",
    "pyplot.title(\"Punctuation % Distribution\")\n",
    "pyplot.show()"
   ]
  },
  {
   "cell_type": "code",
   "execution_count": 21,
   "metadata": {},
   "outputs": [
    {
     "data": {
      "image/png": "[encoded data removed]",
      "text/plain": [
       "<Figure size 432x288 with 1 Axes>"
      ]
     },
     "metadata": {
      "needs_background": "light"
     },
     "output_type": "display_data"
    }
   ],
   "source": [
    "# Identify Features that qualify for transformation \n",
    "bins = np.linspace(0,4000,45)\n",
    "\n",
    "pyplot.hist(data['txt_len'], bins)\n",
    "pyplot.title(\"Text Length Distribution\")\n",
    "pyplot.show()\n",
    "\n",
    "# The txt_len skews better towards zero and therefore qualifies to be a good feature for the model\n"
   ]
  },
  {
   "cell_type": "code",
   "execution_count": 22,
   "metadata": {},
   "outputs": [
    {
     "data": {
      "image/png": "[encoded data removed]",
      "text/plain": [
       "<Figure size 432x288 with 1 Axes>"
      ]
     },
     "metadata": {
      "needs_background": "light"
     },
     "output_type": "display_data"
    },
    {
     "data": {
      "image/png": "[encoded data removed]",
      "text/plain": [
       "<Figure size 432x288 with 1 Axes>"
      ]
     },
     "metadata": {
      "needs_background": "light"
     },
     "output_type": "display_data"
    },
    {
     "data": {
      "image/png": "[encoded data removed]",
      "text/plain": [
       "<Figure size 432x288 with 1 Axes>"
      ]
     },
     "metadata": {
      "needs_background": "light"
     },
     "output_type": "display_data"
    },
    {
     "data": {
      "image/png": "[encoded data removed]",
      "text/plain": [
       "<Figure size 432x288 with 1 Axes>"
      ]
     },
     "metadata": {
      "needs_background": "light"
     },
     "output_type": "display_data"
    },
    {
     "data": {
      "image/png": "[encoded data removed]",
      "text/plain": [
       "<Figure size 432x288 with 1 Axes>"
      ]
     },
     "metadata": {
      "needs_background": "light"
     },
     "output_type": "display_data"
    }
   ],
   "source": [
    "# Box-Cox Power Transformations , transform the txt_len feature \n",
    "# Transformation alters each data point int a certain column in a systematic way that makes it cleaner for the model to use\n",
    "# For instance, that could mean squaring each value or taking the square root of each value / column. \n",
    "\n",
    "# Transformation Process \n",
    "# 1. Determine what range of exponents to test \n",
    "# 2. Apply each transformation to each value of your chosen feature\n",
    "# 3. Use some criteria to determine which of the transformations yield the best distribution \n",
    "\n",
    "for i in [1,2,3,4,5]:\n",
    "    pyplot.hist((data['txt_len'])**(1/i) , bins=45)\n",
    "    pyplot.title('Transformation: 1/{}'.format(str(i)))\n",
    "    pyplot.show()"
   ]
  },
  {
   "cell_type": "code",
   "execution_count": 23,
   "metadata": {},
   "outputs": [],
   "source": [
    "# We use the K-Fold Cross- Validation technique to evaluate our models\n",
    "# the full data set is divided into k-subsets and the holdout method is repeated k times. Each time, one of the k-subsets is\n",
    "# used as the test set and the other k-1 subsets are put together to be used to train the model\n",
    "\n",
    "\n",
    "#Ensemble Method\n",
    "# The Technique creates multiple models and then combines them to produce better results than any of the single models \n",
    "# individually.\n",
    "\n",
    "# Random Forest is an ensembe learning method tha constructs a collection of decision trees and then agggregates the\n",
    "# predictions of each tree to determine the final prediction \n",
    "\n",
    "# Benefits of Ensemble Methods \n",
    "# Can be used for classification or regression\n",
    "# Easily handles outliers, missing values, etc. \n",
    "# Accepts various types of inputs (continous, ordinalm etc.)\n",
    "# Less likely to overfit\n",
    "# Outputs feature importance\n"
   ]
  },
  {
   "cell_type": "code",
   "execution_count": 75,
   "metadata": {},
   "outputs": [],
   "source": [
    "def clean_text(text):\n",
    "    text = clean_special_patterns(text)\n",
    "    text = \"\".join([word.lower() for word in text if word not in string.punctuation])   \n",
    "    numeric_removal = re.sub(r'\\b\\d+(?:\\.\\d+)?\\s+', '', text)\n",
    "    tokens = re.split('\\W+', numeric_removal)\n",
    "    text = [wn.lemmatize(word) for word in tokens if word not in list_of_english_stopwords]\n",
    "    return text"
   ]
  },
  {
   "cell_type": "code",
   "execution_count": 25,
   "metadata": {},
   "outputs": [],
   "source": [
    "# try out Count Vectorizer \n",
    "#from sklearn.feature_extraction.text import CountVectorizer\n",
    "\n",
    "#Apply CountVectorizer to a small sample \n",
    "#data_sample = data[0:20]\n",
    "\n",
    "#count_vect = CountVectorizer(analyzer=clean_text)\n",
    "\n",
    "#train the vectorizer\n",
    "#X_counts = count_vect.fit_transform(data_sample['raw_text'])\n",
    "\n",
    "#print(X_counts.shape)\n",
    "#print(count_vect.get_feature_names())\n",
    "\n",
    "\n"
   ]
  },
  {
   "cell_type": "code",
   "execution_count": 26,
   "metadata": {},
   "outputs": [
    {
     "ename": "NameError",
     "evalue": "name 'X_counts' is not defined",
     "output_type": "error",
     "traceback": [
      "\u001b[1;31m---------------------------------------------------------------------------\u001b[0m",
      "\u001b[1;31mNameError\u001b[0m                                 Traceback (most recent call last)",
      "\u001b[1;32m<ipython-input-26-8b89820de0e3>\u001b[0m in \u001b[0;36m<module>\u001b[1;34m\u001b[0m\n\u001b[0;32m      1\u001b[0m \u001b[1;31m#Vectorizers Output Sparse matrices\u001b[0m\u001b[1;33m\u001b[0m\u001b[1;33m\u001b[0m\u001b[1;33m\u001b[0m\u001b[0m\n\u001b[1;32m----> 2\u001b[1;33m \u001b[0mx_counts_df\u001b[0m \u001b[1;33m=\u001b[0m    \u001b[0mpd\u001b[0m\u001b[1;33m.\u001b[0m\u001b[0mDataFrame\u001b[0m\u001b[1;33m(\u001b[0m\u001b[0mX_counts\u001b[0m\u001b[1;33m.\u001b[0m\u001b[0mtoarray\u001b[0m\u001b[1;33m(\u001b[0m\u001b[1;33m)\u001b[0m\u001b[1;33m)\u001b[0m\u001b[1;33m\u001b[0m\u001b[1;33m\u001b[0m\u001b[0m\n\u001b[0m\u001b[0;32m      3\u001b[0m \u001b[0mx_counts_df\u001b[0m\u001b[1;33m.\u001b[0m\u001b[0mcolumns\u001b[0m \u001b[1;33m=\u001b[0m \u001b[0mcount_vect\u001b[0m\u001b[1;33m.\u001b[0m\u001b[0mget_feature_names\u001b[0m\u001b[1;33m(\u001b[0m\u001b[1;33m)\u001b[0m\u001b[1;33m\u001b[0m\u001b[1;33m\u001b[0m\u001b[0m\n\u001b[0;32m      4\u001b[0m \u001b[0mx_counts_df\u001b[0m\u001b[1;33m\u001b[0m\u001b[1;33m\u001b[0m\u001b[0m\n",
      "\u001b[1;31mNameError\u001b[0m: name 'X_counts' is not defined"
     ]
    }
   ],
   "source": [
    "#Vectorizers Output Sparse matrices \n",
    "#x_counts_df =    pd.DataFrame(X_counts.toarray())\n",
    "#x_counts_df.columns = count_vect.get_feature_names()\n",
    "#x_counts_df"
   ]
  },
  {
   "cell_type": "code",
   "execution_count": 76,
   "metadata": {},
   "outputs": [],
   "source": [
    "#N-Gram Vectorization Process\n",
    "\n",
    "def clean_text_ngram(text):\n",
    "    \"\"\"\n",
    "    Modified on the text line as N Gram needs words together to check for the adjacent words while generating\n",
    "    its N-Gram thingie\n",
    "    \"\"\"\n",
    "    text = clean_special_patterns(text)\n",
    "    text = \"\".join([word.lower() for word in text if word not in string.punctuation])   \n",
    "    numeric_removal = re.sub(r'\\b\\d+(?:\\.\\d+)?\\s+', '', text)\n",
    "    tokens = re.split('\\W+', numeric_removal)\n",
    "    text = \" \".join([wn.lemmatize(word) for word in tokens if word not in list_of_english_stopwords])\n",
    "    return text\n",
    "\n",
    "\n",
    "#business_data['cleaned_text'] = business_data['raw_text'].apply(lambda x: clean_text_ngram(x))\n",
    "#business_data.head()\n",
    "\n",
    "\n"
   ]
  },
  {
   "cell_type": "code",
   "execution_count": null,
   "metadata": {},
   "outputs": [],
   "source": [
    "## N_GRAM VECTORIZER\n",
    "#(1,1) -> Search for unigrams \n",
    "#(1,2) -> Search for unigrams and bigrams \n",
    "#(1,3) -> Search unigrams, bigrams, and trigrams\n",
    "#...\n",
    "\n",
    "#ngram_vect = CountVectorizer(ngram_range=(1,2))\n",
    "#X_ngram_counts = ngram_vect.fit_transform(business_data['cleaned_text'])\n",
    "#X_counts_ngram_df = pd.DataFrame(X_ngram_counts.toarray())\n",
    "#X_counts_ngram_df.columns = ngram_vect.get_feature_names()\n",
    "\n",
    "#X_counts_ngram_df\n"
   ]
  },
  {
   "cell_type": "code",
   "execution_count": 77,
   "metadata": {},
   "outputs": [
    {
     "ename": "NameError",
     "evalue": "name 'clean_special_patterns' is not defined",
     "output_type": "error",
     "traceback": [
      "\u001b[1;31m---------------------------------------------------------------------------\u001b[0m",
      "\u001b[1;31mNameError\u001b[0m                                 Traceback (most recent call last)",
      "\u001b[1;32m<ipython-input-77-e7071e0c8915>\u001b[0m in \u001b[0;36m<module>\u001b[1;34m\u001b[0m\n\u001b[0;32m      3\u001b[0m \u001b[1;33m\u001b[0m\u001b[0m\n\u001b[0;32m      4\u001b[0m \u001b[0mtfidf_vect\u001b[0m \u001b[1;33m=\u001b[0m \u001b[0mTfidfVectorizer\u001b[0m\u001b[1;33m(\u001b[0m\u001b[0manalyzer\u001b[0m\u001b[1;33m=\u001b[0m\u001b[0mclean_text\u001b[0m\u001b[1;33m)\u001b[0m\u001b[1;33m\u001b[0m\u001b[1;33m\u001b[0m\u001b[0m\n\u001b[1;32m----> 5\u001b[1;33m \u001b[0mX_tfidf\u001b[0m \u001b[1;33m=\u001b[0m \u001b[0mtfidf_vect\u001b[0m\u001b[1;33m.\u001b[0m\u001b[0mfit_transform\u001b[0m\u001b[1;33m(\u001b[0m\u001b[0mdata\u001b[0m\u001b[1;33m[\u001b[0m\u001b[1;34m'text'\u001b[0m\u001b[1;33m]\u001b[0m\u001b[1;33m)\u001b[0m\u001b[1;33m\u001b[0m\u001b[1;33m\u001b[0m\u001b[0m\n\u001b[0m\u001b[0;32m      6\u001b[0m \u001b[1;33m\u001b[0m\u001b[0m\n\u001b[0;32m      7\u001b[0m \u001b[0mX_features\u001b[0m \u001b[1;33m=\u001b[0m \u001b[0mpd\u001b[0m\u001b[1;33m.\u001b[0m\u001b[0mconcat\u001b[0m\u001b[1;33m(\u001b[0m\u001b[1;33m[\u001b[0m\u001b[0mdata\u001b[0m\u001b[1;33m[\u001b[0m\u001b[1;34m'txt_len'\u001b[0m\u001b[1;33m]\u001b[0m\u001b[1;33m,\u001b[0m \u001b[0mdata\u001b[0m\u001b[1;33m[\u001b[0m\u001b[1;34m'punct%'\u001b[0m\u001b[1;33m]\u001b[0m\u001b[1;33m,\u001b[0m \u001b[0mpd\u001b[0m\u001b[1;33m.\u001b[0m\u001b[0mDataFrame\u001b[0m\u001b[1;33m(\u001b[0m\u001b[0mX_tfidf\u001b[0m\u001b[1;33m.\u001b[0m\u001b[0mtoarray\u001b[0m\u001b[1;33m(\u001b[0m\u001b[1;33m)\u001b[0m\u001b[1;33m)\u001b[0m\u001b[1;33m]\u001b[0m\u001b[1;33m,\u001b[0m \u001b[0maxis\u001b[0m\u001b[1;33m=\u001b[0m\u001b[1;36m1\u001b[0m\u001b[1;33m)\u001b[0m\u001b[1;33m\u001b[0m\u001b[1;33m\u001b[0m\u001b[0m\n",
      "\u001b[1;32m~\\anaconda3\\lib\\site-packages\\sklearn\\feature_extraction\\text.py\u001b[0m in \u001b[0;36mfit_transform\u001b[1;34m(self, raw_documents, y)\u001b[0m\n\u001b[0;32m   1838\u001b[0m         \"\"\"\n\u001b[0;32m   1839\u001b[0m         \u001b[0mself\u001b[0m\u001b[1;33m.\u001b[0m\u001b[0m_check_params\u001b[0m\u001b[1;33m(\u001b[0m\u001b[1;33m)\u001b[0m\u001b[1;33m\u001b[0m\u001b[1;33m\u001b[0m\u001b[0m\n\u001b[1;32m-> 1840\u001b[1;33m         \u001b[0mX\u001b[0m \u001b[1;33m=\u001b[0m \u001b[0msuper\u001b[0m\u001b[1;33m(\u001b[0m\u001b[1;33m)\u001b[0m\u001b[1;33m.\u001b[0m\u001b[0mfit_transform\u001b[0m\u001b[1;33m(\u001b[0m\u001b[0mraw_documents\u001b[0m\u001b[1;33m)\u001b[0m\u001b[1;33m\u001b[0m\u001b[1;33m\u001b[0m\u001b[0m\n\u001b[0m\u001b[0;32m   1841\u001b[0m         \u001b[0mself\u001b[0m\u001b[1;33m.\u001b[0m\u001b[0m_tfidf\u001b[0m\u001b[1;33m.\u001b[0m\u001b[0mfit\u001b[0m\u001b[1;33m(\u001b[0m\u001b[0mX\u001b[0m\u001b[1;33m)\u001b[0m\u001b[1;33m\u001b[0m\u001b[1;33m\u001b[0m\u001b[0m\n\u001b[0;32m   1842\u001b[0m         \u001b[1;31m# X is already a transformed view of raw_documents so\u001b[0m\u001b[1;33m\u001b[0m\u001b[1;33m\u001b[0m\u001b[1;33m\u001b[0m\u001b[0m\n",
      "\u001b[1;32m~\\anaconda3\\lib\\site-packages\\sklearn\\feature_extraction\\text.py\u001b[0m in \u001b[0;36mfit_transform\u001b[1;34m(self, raw_documents, y)\u001b[0m\n\u001b[0;32m   1196\u001b[0m         \u001b[0mmax_features\u001b[0m \u001b[1;33m=\u001b[0m \u001b[0mself\u001b[0m\u001b[1;33m.\u001b[0m\u001b[0mmax_features\u001b[0m\u001b[1;33m\u001b[0m\u001b[1;33m\u001b[0m\u001b[0m\n\u001b[0;32m   1197\u001b[0m \u001b[1;33m\u001b[0m\u001b[0m\n\u001b[1;32m-> 1198\u001b[1;33m         vocabulary, X = self._count_vocab(raw_documents,\n\u001b[0m\u001b[0;32m   1199\u001b[0m                                           self.fixed_vocabulary_)\n\u001b[0;32m   1200\u001b[0m \u001b[1;33m\u001b[0m\u001b[0m\n",
      "\u001b[1;32m~\\anaconda3\\lib\\site-packages\\sklearn\\feature_extraction\\text.py\u001b[0m in \u001b[0;36m_count_vocab\u001b[1;34m(self, raw_documents, fixed_vocab)\u001b[0m\n\u001b[0;32m   1108\u001b[0m         \u001b[1;32mfor\u001b[0m \u001b[0mdoc\u001b[0m \u001b[1;32min\u001b[0m \u001b[0mraw_documents\u001b[0m\u001b[1;33m:\u001b[0m\u001b[1;33m\u001b[0m\u001b[1;33m\u001b[0m\u001b[0m\n\u001b[0;32m   1109\u001b[0m             \u001b[0mfeature_counter\u001b[0m \u001b[1;33m=\u001b[0m \u001b[1;33m{\u001b[0m\u001b[1;33m}\u001b[0m\u001b[1;33m\u001b[0m\u001b[1;33m\u001b[0m\u001b[0m\n\u001b[1;32m-> 1110\u001b[1;33m             \u001b[1;32mfor\u001b[0m \u001b[0mfeature\u001b[0m \u001b[1;32min\u001b[0m \u001b[0manalyze\u001b[0m\u001b[1;33m(\u001b[0m\u001b[0mdoc\u001b[0m\u001b[1;33m)\u001b[0m\u001b[1;33m:\u001b[0m\u001b[1;33m\u001b[0m\u001b[1;33m\u001b[0m\u001b[0m\n\u001b[0m\u001b[0;32m   1111\u001b[0m                 \u001b[1;32mtry\u001b[0m\u001b[1;33m:\u001b[0m\u001b[1;33m\u001b[0m\u001b[1;33m\u001b[0m\u001b[0m\n\u001b[0;32m   1112\u001b[0m                     \u001b[0mfeature_idx\u001b[0m \u001b[1;33m=\u001b[0m \u001b[0mvocabulary\u001b[0m\u001b[1;33m[\u001b[0m\u001b[0mfeature\u001b[0m\u001b[1;33m]\u001b[0m\u001b[1;33m\u001b[0m\u001b[1;33m\u001b[0m\u001b[0m\n",
      "\u001b[1;32m~\\anaconda3\\lib\\site-packages\\sklearn\\feature_extraction\\text.py\u001b[0m in \u001b[0;36m_analyze\u001b[1;34m(doc, analyzer, tokenizer, ngrams, preprocessor, decoder, stop_words)\u001b[0m\n\u001b[0;32m     99\u001b[0m         \u001b[0mdoc\u001b[0m \u001b[1;33m=\u001b[0m \u001b[0mdecoder\u001b[0m\u001b[1;33m(\u001b[0m\u001b[0mdoc\u001b[0m\u001b[1;33m)\u001b[0m\u001b[1;33m\u001b[0m\u001b[1;33m\u001b[0m\u001b[0m\n\u001b[0;32m    100\u001b[0m     \u001b[1;32mif\u001b[0m \u001b[0manalyzer\u001b[0m \u001b[1;32mis\u001b[0m \u001b[1;32mnot\u001b[0m \u001b[1;32mNone\u001b[0m\u001b[1;33m:\u001b[0m\u001b[1;33m\u001b[0m\u001b[1;33m\u001b[0m\u001b[0m\n\u001b[1;32m--> 101\u001b[1;33m         \u001b[0mdoc\u001b[0m \u001b[1;33m=\u001b[0m \u001b[0manalyzer\u001b[0m\u001b[1;33m(\u001b[0m\u001b[0mdoc\u001b[0m\u001b[1;33m)\u001b[0m\u001b[1;33m\u001b[0m\u001b[1;33m\u001b[0m\u001b[0m\n\u001b[0m\u001b[0;32m    102\u001b[0m     \u001b[1;32melse\u001b[0m\u001b[1;33m:\u001b[0m\u001b[1;33m\u001b[0m\u001b[1;33m\u001b[0m\u001b[0m\n\u001b[0;32m    103\u001b[0m         \u001b[1;32mif\u001b[0m \u001b[0mpreprocessor\u001b[0m \u001b[1;32mis\u001b[0m \u001b[1;32mnot\u001b[0m \u001b[1;32mNone\u001b[0m\u001b[1;33m:\u001b[0m\u001b[1;33m\u001b[0m\u001b[1;33m\u001b[0m\u001b[0m\n",
      "\u001b[1;32m<ipython-input-75-4313a75f7618>\u001b[0m in \u001b[0;36mclean_text\u001b[1;34m(text)\u001b[0m\n\u001b[0;32m      1\u001b[0m \u001b[1;32mdef\u001b[0m \u001b[0mclean_text\u001b[0m\u001b[1;33m(\u001b[0m\u001b[0mtext\u001b[0m\u001b[1;33m)\u001b[0m\u001b[1;33m:\u001b[0m\u001b[1;33m\u001b[0m\u001b[1;33m\u001b[0m\u001b[0m\n\u001b[1;32m----> 2\u001b[1;33m     \u001b[0mtext\u001b[0m \u001b[1;33m=\u001b[0m \u001b[0mclean_special_patterns\u001b[0m\u001b[1;33m(\u001b[0m\u001b[0mtext\u001b[0m\u001b[1;33m)\u001b[0m\u001b[1;33m\u001b[0m\u001b[1;33m\u001b[0m\u001b[0m\n\u001b[0m\u001b[0;32m      3\u001b[0m     \u001b[0mtext\u001b[0m \u001b[1;33m=\u001b[0m \u001b[1;34m\"\"\u001b[0m\u001b[1;33m.\u001b[0m\u001b[0mjoin\u001b[0m\u001b[1;33m(\u001b[0m\u001b[1;33m[\u001b[0m\u001b[0mword\u001b[0m\u001b[1;33m.\u001b[0m\u001b[0mlower\u001b[0m\u001b[1;33m(\u001b[0m\u001b[1;33m)\u001b[0m \u001b[1;32mfor\u001b[0m \u001b[0mword\u001b[0m \u001b[1;32min\u001b[0m \u001b[0mtext\u001b[0m \u001b[1;32mif\u001b[0m \u001b[0mword\u001b[0m \u001b[1;32mnot\u001b[0m \u001b[1;32min\u001b[0m \u001b[0mstring\u001b[0m\u001b[1;33m.\u001b[0m\u001b[0mpunctuation\u001b[0m\u001b[1;33m]\u001b[0m\u001b[1;33m)\u001b[0m\u001b[1;33m\u001b[0m\u001b[1;33m\u001b[0m\u001b[0m\n\u001b[0;32m      4\u001b[0m     \u001b[0mnumeric_removal\u001b[0m \u001b[1;33m=\u001b[0m \u001b[0mre\u001b[0m\u001b[1;33m.\u001b[0m\u001b[0msub\u001b[0m\u001b[1;33m(\u001b[0m\u001b[1;34mr'\\b\\d+(?:\\.\\d+)?\\s+'\u001b[0m\u001b[1;33m,\u001b[0m \u001b[1;34m''\u001b[0m\u001b[1;33m,\u001b[0m \u001b[0mtext\u001b[0m\u001b[1;33m)\u001b[0m\u001b[1;33m\u001b[0m\u001b[1;33m\u001b[0m\u001b[0m\n\u001b[0;32m      5\u001b[0m     \u001b[0mtokens\u001b[0m \u001b[1;33m=\u001b[0m \u001b[0mre\u001b[0m\u001b[1;33m.\u001b[0m\u001b[0msplit\u001b[0m\u001b[1;33m(\u001b[0m\u001b[1;34m'\\W+'\u001b[0m\u001b[1;33m,\u001b[0m \u001b[0mnumeric_removal\u001b[0m\u001b[1;33m)\u001b[0m\u001b[1;33m\u001b[0m\u001b[1;33m\u001b[0m\u001b[0m\n",
      "\u001b[1;31mNameError\u001b[0m: name 'clean_special_patterns' is not defined"
     ]
    }
   ],
   "source": [
    "#TF-IDF (Term Frequency Inverse Document Frequency) Vectorizer create a Document Term Matrix\n",
    "from sklearn.feature_extraction.text import TfidfVectorizer\n",
    "\n",
    "tfidf_vect = TfidfVectorizer(analyzer=clean_text)\n",
    "X_tfidf = tfidf_vect.fit_transform(data['text'])\n",
    "\n",
    "X_features = pd.concat([data['txt_len'], data['punct%'], pd.DataFrame(X_tfidf.toarray())], axis=1)\n",
    "X_features.head()"
   ]
  },
  {
   "cell_type": "code",
   "execution_count": 34,
   "metadata": {},
   "outputs": [
    {
     "data": {
      "text/plain": [
       "array([0.90091743, 0.90825688, 0.90825688, 0.90758874, 0.91676867])"
      ]
     },
     "execution_count": 34,
     "metadata": {},
     "output_type": "execute_result"
    }
   ],
   "source": [
    "# Build Random Forest Model | Explore RandomForestClassifier through Cross-Validation\n",
    "\n",
    "from sklearn.ensemble import RandomForestClassifier\n",
    "from sklearn.model_selection import KFold, cross_val_score\n",
    "\n",
    "\n",
    "rf = RandomForestClassifier(n_jobs=-1)\n",
    "\n",
    "k_fold = KFold(n_splits=5) # Assigns each observation of our original data too certain subsets\n",
    "cross_val_score(rf,X_features, data['label'], cv=k_fold, scoring='accuracy', n_jobs=-1)\n",
    "\n",
    "\n",
    "#On the first interation, the model was trained and evaluated on a test set and it predicted 90% (0.90091743) of the sample\n",
    "#In the second iteration, it was trained on a different training set and evaluated on a different test set and also predicted\n",
    "# 91% [0.90825688] of the sample\n",
    "# Third Iteration : 91% [0.90825688]\n",
    "# Fourth Iteration : 91% [0.90758874]\n",
    "# Fifth iteration : 92% [0.91676867]"
   ]
  },
  {
   "cell_type": "code",
   "execution_count": 54,
   "metadata": {},
   "outputs": [],
   "source": [
    "# Explore RandomForestClassifier through Holdout Set\n",
    "from sklearn.metrics import precision_recall_fscore_support as score\n",
    "from sklearn.model_selection import train_test_split \n",
    "\n",
    "# Split my features 20% test, 80% train \n",
    "\n",
    "x_train, x_text, y_train, y_test = train_test_split(X_features, data['label'], test_size=0.2)"
   ]
  },
  {
   "cell_type": "code",
   "execution_count": 51,
   "metadata": {},
   "outputs": [],
   "source": [
    "rf = RandomForestClassifier(n_estimators=50, max_depth=20, n_jobs=-1)\n",
    "\n",
    "# fit our model\n",
    "rf_model = rf.fit(x_train, y_train)"
   ]
  },
  {
   "cell_type": "code",
   "execution_count": 52,
   "metadata": {},
   "outputs": [
    {
     "data": {
      "text/plain": [
       "[(0.017333637743795326, 14214),\n",
       " (0.015209138645353351, 24098),\n",
       " (0.01416571943384702, 17731),\n",
       " (0.013923371380691607, 42782),\n",
       " (0.013227906382003796, 4578),\n",
       " (0.012090775883329583, 34864),\n",
       " (0.010480461181040608, 'txt_len'),\n",
       " (0.009915926259149282, 6039),\n",
       " (0.009883715622531116, 35032),\n",
       " (0.009591627485679322, 46807),\n",
       " (0.009358287832705571, 21301),\n",
       " (0.009254423611748936, 33999),\n",
       " (0.009038246858218153, 41433),\n",
       " (0.008966161726656287, 42121),\n",
       " (0.008414741890678118, 25610)]"
      ]
     },
     "execution_count": 52,
     "metadata": {},
     "output_type": "execute_result"
    }
   ],
   "source": [
    "# Feature importances \n",
    "sorted(zip(rf_model.feature_importances_, x_train.columns), reverse = True)[0:15]"
   ]
  },
  {
   "cell_type": "code",
   "execution_count": 64,
   "metadata": {},
   "outputs": [],
   "source": [
    "y_pred =  rf_model.predict(x_text)\n",
    "\n",
    "#'micro', 'macro', 'weighted'\n",
    "precision, recall, fscore, support= score(y_test, y_pred, average='macro')"
   ]
  },
  {
   "cell_type": "code",
   "execution_count": 65,
   "metadata": {},
   "outputs": [
    {
     "name": "stdout",
     "output_type": "stream",
     "text": [
      "Precision: 0.927 / Recall : 0.88 / Accuracy: 0.894\n"
     ]
    }
   ],
   "source": [
    "print('Precision: {} / Recall : {} / Accuracy: {}'.format(round(precision, 3),\n",
    "                                                         round(recall, 3),\n",
    "                                                         round((y_pred==y_test).sum()/len(y_pred),3)))\n",
    "\n",
    "# Predicted test at 93%\n",
    "# properly recognized 88% of test in the right label\n",
    "# The multicall label were identified 90% of the time"
   ]
  },
  {
   "cell_type": "code",
   "execution_count": 71,
   "metadata": {},
   "outputs": [],
   "source": [
    "# Exploring GridSearch \n",
    "\n",
    "def train_RF(n_est,depth):\n",
    "    rf =  RandomForestClassifier(n_estimators=n_est, max_depth=depth, n_jobs=-1)\n",
    "    rf_model = rf.fit(x_train,y_train)\n",
    "    y_pred = rf_model.predict(x_text)\n",
    "    precision, recall, fscore, support = score(y_test, y_pred, average='macro')\n",
    "    print('EST: {} / Depth : {} ---- Precision: {} / Recall : {} / Accuracy: {}'.format(n_est, depth,\n",
    "                                                                                         round(precision, 3),\n",
    "                                                                                         round(recall, 3), \n",
    "                                                                                         round((y_pred==y_test).sum()/len(y_pred),3)\n",
    "                                                                                        ))"
   ]
  },
  {
   "cell_type": "code",
   "execution_count": 73,
   "metadata": {
    "scrolled": true
   },
   "outputs": [
    {
     "name": "stdout",
     "output_type": "stream",
     "text": [
      "EST: 10 / Depth : 30 ---- Precision: 0.872 / Recall : 0.831 / Accuracy: 0.841\n",
      "EST: 10 / Depth : 60 ---- Precision: 0.889 / Recall : 0.863 / Accuracy: 0.872\n",
      "EST: 10 / Depth : 90 ---- Precision: 0.897 / Recall : 0.87 / Accuracy: 0.877\n",
      "EST: 10 / Depth : None ---- Precision: 0.9 / Recall : 0.877 / Accuracy: 0.885\n",
      "EST: 150 / Depth : 30 ---- Precision: 0.916 / Recall : 0.88 / Accuracy: 0.89\n",
      "EST: 150 / Depth : 60 ---- Precision: 0.922 / Recall : 0.895 / Accuracy: 0.903\n",
      "EST: 150 / Depth : 90 ---- Precision: 0.929 / Recall : 0.907 / Accuracy: 0.914\n",
      "EST: 150 / Depth : None ---- Precision: 0.93 / Recall : 0.912 / Accuracy: 0.919\n",
      "EST: 300 / Depth : 30 ---- Precision: 0.909 / Recall : 0.872 / Accuracy: 0.883\n",
      "EST: 300 / Depth : 60 ---- Precision: 0.92 / Recall : 0.893 / Accuracy: 0.902\n",
      "EST: 300 / Depth : 90 ---- Precision: 0.928 / Recall : 0.907 / Accuracy: 0.914\n",
      "EST: 300 / Depth : None ---- Precision: 0.931 / Recall : 0.913 / Accuracy: 0.919\n"
     ]
    }
   ],
   "source": [
    "for n_est in [10,150,300]:\n",
    "    for depth in [30,60,90,None]:\n",
    "        train_RF(n_est, depth)"
   ]
  },
  {
   "cell_type": "code",
   "execution_count": null,
   "metadata": {},
   "outputs": [],
   "source": [
    "# Evaluate the Random Forest model with GridSearchCrossValidation [GridSearchCV]\n"
   ]
  }
 ],
 "metadata": {
  "kernelspec": {
   "display_name": "Python 3",
   "language": "python",
   "name": "python3"
  },
  "language_info": {
   "codemirror_mode": {
    "name": "ipython",
    "version": 3
   },
   "file_extension": ".py",
   "mimetype": "text/x-python",
   "name": "python",
   "nbconvert_exporter": "python",
   "pygments_lexer": "ipython3",
   "version": "3.8.3"
  }
 },
 "nbformat": 4,
 "nbformat_minor": 4
}
